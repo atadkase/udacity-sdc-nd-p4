{
 "cells": [
  {
   "cell_type": "code",
   "execution_count": 6,
   "metadata": {},
   "outputs": [],
   "source": [
    "import cv2\n",
    "import numpy as np\n",
    "import matplotlib.pyplot as plt\n",
    "import matplotlib.image as mpimg\n",
    "import glob"
   ]
  },
  {
   "cell_type": "markdown",
   "metadata": {},
   "source": [
    "# Part 1 Camera Calibration\n",
    "This part loads all the calibration images and uses OpenCV's camera calibration functions to calculate a calibration matrix. This section borrows heavily from the camera calibration tutorial in the camera calibration module."
   ]
  },
  {
   "cell_type": "code",
   "execution_count": 12,
   "metadata": {},
   "outputs": [
    {
     "name": "stdout",
     "output_type": "stream",
     "text": [
      "There are 20 calibration images.\n"
     ]
    }
   ],
   "source": [
    "# The calibration images have 9x6 internal corners\n",
    "nx = 9\n",
    "ny = 6\n",
    "fnames = glob.glob('./camera_cal/calibration*.jpg')\n",
    "print \"There are \"+ str(len(fnames))+\" calibration images.\"\n",
    "# Arrays to store the image points and object points from all images\n",
    "img_points = []\n",
    "obj_points = []\n",
    "\n",
    "# Prepare object points to be in a grid\n",
    "ob_points = np.zeros(6*9,3, np.float32)\n",
    "ob_points[:,:,2] = np.mgrid[0:9, 0:6].T.reshape(-1,2)\n"
   ]
  },
  {
   "cell_type": "code",
   "execution_count": null,
   "metadata": {},
   "outputs": [],
   "source": []
  }
 ],
 "metadata": {
  "kernelspec": {
   "display_name": "Python 2",
   "language": "python",
   "name": "python2"
  },
  "language_info": {
   "codemirror_mode": {
    "name": "ipython",
    "version": 2
   },
   "file_extension": ".py",
   "mimetype": "text/x-python",
   "name": "python",
   "nbconvert_exporter": "python",
   "pygments_lexer": "ipython2",
   "version": "2.7.14"
  }
 },
 "nbformat": 4,
 "nbformat_minor": 2
}
